{
 "cells": [
  {
   "cell_type": "code",
   "execution_count": 24,
   "source": [
    "from transformers import GPT2LMHeadModel, GPT2Tokenizer, PreTrainedTokenizerFast\r\n",
    "import torch"
   ],
   "outputs": [],
   "metadata": {}
  },
  {
   "cell_type": "code",
   "execution_count": 25,
   "source": [
    "#model init\r\n",
    "tokenizer = PreTrainedTokenizerFast.from_pretrained(\"skt/kogpt2-base-v2\", bos_token='</s>', eos_token='</s>', unk_token='<unk>', pad_token='<pad>', mask_token='<mask>')\r\n",
    "model = GPT2LMHeadModel.from_pretrained('skt/kogpt2-base-v2')\r\n",
    "device = torch.device(\"cpu\")\r\n"
   ],
   "outputs": [],
   "metadata": {}
  },
  {
   "cell_type": "code",
   "execution_count": null,
   "source": [
    "state = torch.load(\r\n",
    "    'C:\\projects\\ch-sig1\\model-server\\models\\wreckgar-4.pt', map_location=device)\r\n",
    "model.load_state_dict(state)\r\n"
   ],
   "outputs": [
    {
     "output_type": "execute_result",
     "data": {
      "text/plain": [
       "<All keys matched successfully>"
      ]
     },
     "metadata": {},
     "execution_count": 21
    }
   ],
   "metadata": {}
  },
  {
   "cell_type": "code",
   "execution_count": null,
   "source": [
    "def predictNext(text,k=20):\r\n",
    "    tokens_tensor = torch.tensor([tokenizer.encode(text)]).to(device)\r\n",
    "\r\n",
    "    with torch.no_grad():\r\n",
    "      outputs = model(tokens_tensor)\r\n",
    "      predictions = outputs[0]\r\n",
    "\r\n",
    "    # Get the predicted next sub-word\r\n",
    "    probs = predictions[0, -1, :]\r\n",
    "    top_next = [tokenizer.decode(i.item()).strip() for i in probs.topk(k)[1]]\r\n",
    "    return top_next"
   ],
   "outputs": [],
   "metadata": {}
  },
  {
   "cell_type": "code",
   "execution_count": null,
   "source": [
    "predictNext(\"자연어 처리에서 개발\", 5)"
   ],
   "outputs": [
    {
     "output_type": "execute_result",
     "data": {
      "text/plain": [
       "['및', '되는', '가능한', '까지의', '자']"
      ]
     },
     "metadata": {},
     "execution_count": 23
    }
   ],
   "metadata": {}
  },
  {
   "cell_type": "code",
   "execution_count": null,
   "source": [],
   "outputs": [],
   "metadata": {}
  }
 ],
 "metadata": {
  "interpreter": {
   "hash": "d7d6d563c462dbcb2ee090b6970b42fc638e8eb4a4e6decc12c92a9df43cdf15"
  },
  "kernelspec": {
   "name": "python3",
   "display_name": "Python 3",
   "language": "python"
  },
  "language_info": {
   "name": "python",
   "version": "3.8.5",
   "mimetype": "text/x-python",
   "codemirror_mode": {
    "name": "ipython",
    "version": 3
   },
   "pygments_lexer": "ipython3",
   "nbconvert_exporter": "python",
   "file_extension": ".py"
  }
 },
 "nbformat": 4,
 "nbformat_minor": 2
}