{
 "cells": [
  {
   "cell_type": "markdown",
   "metadata": {},
   "source": [
    "# 다음단어 모델"
   ]
  },
  {
   "cell_type": "code",
   "execution_count": 24,
   "metadata": {},
   "outputs": [],
   "source": [
    "from transformers import GPT2LMHeadModel, GPT2Tokenizer, PreTrainedTokenizerFast\n",
    "import torch"
   ]
  },
  {
   "cell_type": "code",
   "execution_count": 25,
   "metadata": {},
   "outputs": [],
   "source": [
    "#model load\n",
    "tokenizer = PreTrainedTokenizerFast.from_pretrained(\"skt/kogpt2-base-v2\", bos_token='</s>', eos_token='</s>', unk_token='<unk>', pad_token='<pad>', mask_token='<mask>')\n",
    "model = GPT2LMHeadModel.from_pretrained('skt/kogpt2-base-v2')\n",
    "device = torch.device(\"cpu\")\n",
    "\n",
    "state = torch.load(\n",
    "    'C:\\projects\\ch-sig1\\model-server\\models\\wreckgar-4.pt', map_location=device)\n",
    "model.load_state_dict(state)"
   ]
  },
  {
   "cell_type": "code",
   "execution_count": 27,
   "metadata": {},
   "outputs": [],
   "source": [
    "def predictNext(text,k=20):\n",
    "    tokens_tensor = torch.tensor([tokenizer.encode(text)]).to(device)\n",
    "\n",
    "    with torch.no_grad():\n",
    "      outputs = model(tokens_tensor)\n",
    "      predictions = outputs[0]\n",
    "\n",
    "    # Get the predicted next sub-word\n",
    "    probs = predictions[0, -1, :]\n",
    "    top_next = [tokenizer.decode(i.item()).strip() for i in probs.topk(k)[1]]\n",
    "    return top_next"
   ]
  },
  {
   "cell_type": "code",
   "execution_count": 28,
   "metadata": {},
   "outputs": [
    {
     "data": {
      "text/plain": [
       "['및', '되는', '가능한', '까지의', '자']"
      ]
     },
     "execution_count": 28,
     "metadata": {},
     "output_type": "execute_result"
    }
   ],
   "source": [
    "predictNext(\"자연어 처리에서 개발\", 5)"
   ]
  },
  {
   "cell_type": "markdown",
   "metadata": {},
   "source": [
    "# 유사어 모델"
   ]
  },
  {
   "cell_type": "code",
   "execution_count": 1,
   "metadata": {},
   "outputs": [
    {
     "name": "stderr",
     "output_type": "stream",
     "text": [
      "C:\\develop\\anaconda\\lib\\site-packages\\gensim\\similarities\\__init__.py:15: UserWarning: The gensim.similarities.levenshtein submodule is disabled, because the optional Levenshtein package <https://pypi.org/project/python-Levenshtein/> is unavailable. Install Levenhstein (e.g. `pip install python-Levenshtein`) to suppress this warning.\n",
      "  warnings.warn(msg)\n"
     ]
    }
   ],
   "source": [
    "from gensim.models import FastText"
   ]
  },
  {
   "cell_type": "code",
   "execution_count": 3,
   "metadata": {},
   "outputs": [],
   "source": [
    "loaded_model = FastText.load(\"../codes/fastText\")"
   ]
  },
  {
   "cell_type": "code",
   "execution_count": 7,
   "metadata": {},
   "outputs": [],
   "source": [
    "def getSimilar(text):\n",
    "    return loaded_model.wv.most_similar(text)"
   ]
  },
  {
   "cell_type": "code",
   "execution_count": 9,
   "metadata": {},
   "outputs": [
    {
     "data": {
      "text/plain": [
       "[('응용소프트웨어', 0.915094792842865),\n",
       " ('컴퓨', 0.830248236656189),\n",
       " ('하드웨어', 0.8265961408615112),\n",
       " ('오픈소스', 0.8255813121795654),\n",
       " ('펌웨어', 0.8222752213478088),\n",
       " ('게임엔진', 0.7863801121711731),\n",
       " ('임베디드', 0.7658462524414062),\n",
       " ('아두이노', 0.7644437551498413),\n",
       " ('요구공학', 0.7623649835586548),\n",
       " ('리눅스', 0.7622244954109192)]"
      ]
     },
     "execution_count": 9,
     "metadata": {},
     "output_type": "execute_result"
    }
   ],
   "source": [
    "getSimilar(\"소프트웨어\")"
   ]
  }
 ],
 "metadata": {
  "interpreter": {
   "hash": "d7d6d563c462dbcb2ee090b6970b42fc638e8eb4a4e6decc12c92a9df43cdf15"
  },
  "kernelspec": {
   "display_name": "Python 3",
   "language": "python",
   "name": "python3"
  },
  "language_info": {
   "codemirror_mode": {
    "name": "ipython",
    "version": 3
   },
   "file_extension": ".py",
   "mimetype": "text/x-python",
   "name": "python",
   "nbconvert_exporter": "python",
   "pygments_lexer": "ipython3",
   "version": "3.8.5"
  }
 },
 "nbformat": 4,
 "nbformat_minor": 2
}
